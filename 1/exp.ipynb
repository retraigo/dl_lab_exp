{
 "cells": [
  {
   "cell_type": "markdown",
   "metadata": {
    "id": "A5HLmpVaRNT4"
   },
   "source": [
    "# 1. SOLVING XOR PROBLEM USING MULTILAYER PERCEPTRON"
   ]
  },
  {
   "cell_type": "markdown",
   "metadata": {
    "id": "LaCTpIeNROk2"
   },
   "source": [
    "## Aim:\n",
    "To implement python program for solving XOR problem using Multilayer perceptron model."
   ]
  },
  {
   "cell_type": "markdown",
   "metadata": {
    "id": "XrAB7F-ERYIv"
   },
   "source": [
    "## Algorithm:\n",
    "\n",
    "1. Import the necessary libraries including tensorflow as tf and numpy as np.\n",
    "2. Define the XOR input data X and the corresponding labels y.\n",
    "3. Create the MLP model using the Sequential API from TensorFlow.\n",
    "4. Add two Dense layers to the model.\n",
    "  - The first layer has 4 units and uses the sigmoid activation function.\n",
    "  - The second layer has 1 unit (output) and also uses the sigmoid activation function.\n",
    "5. Compile it using the binary cross-entropy loss function and the ADAM optimizer with a learning rate of 0.1.\n",
    "6. Use the trained model to make predictions on the input data X and print the rounded predictions."
   ]
  },
  {
   "cell_type": "markdown",
   "metadata": {
    "id": "qolfa4W4Rz03"
   },
   "source": [
    "## Program:"
   ]
  },
  {
   "cell_type": "code",
   "execution_count": 1,
   "metadata": {
    "id": "ZiPRlhXESTYU"
   },
   "outputs": [],
   "source": [
    "import tensorflow as tf\n",
    "from tensorflow.keras.models import Sequential\n",
    "from tensorflow.keras.layers import Dense, Input, Activation\n",
    "import numpy as np"
   ]
  },
  {
   "cell_type": "code",
   "execution_count": 2,
   "metadata": {
    "id": "UTN5wPaySeAe"
   },
   "outputs": [],
   "source": [
    "tf.random.set_seed(69)"
   ]
  },
  {
   "cell_type": "code",
   "execution_count": 3,
   "metadata": {
    "id": "iR4XBu_HSgsu"
   },
   "outputs": [],
   "source": [
    "X_train = tf.constant([[0, 0], [0, 1], [1, 0], [1, 1]])\n",
    "y_train = tf.constant([[0], [1], [1], [0]])"
   ]
  },
  {
   "cell_type": "code",
   "execution_count": 4,
   "metadata": {
    "id": "kFRac36BSiQE"
   },
   "outputs": [],
   "source": [
    "model = Sequential([\n",
    "  Input(shape=(2, )),\n",
    "  Dense(4),\n",
    "  Activation(\"sigmoid\"),\n",
    "  Dense(1),\n",
    "  Activation(\"sigmoid\")\n",
    "])"
   ]
  },
  {
   "cell_type": "code",
   "execution_count": 5,
   "metadata": {
    "id": "d3yU4skIS20k"
   },
   "outputs": [],
   "source": [
    "model.compile(\n",
    "    loss=\"binary_crossentropy\",\n",
    "    optimizer=\"adam\",\n",
    "    metrics=[\"accuracy\"]\n",
    ")"
   ]
  },
  {
   "cell_type": "code",
   "execution_count": 6,
   "metadata": {
    "colab": {
     "base_uri": "https://localhost:8080/"
    },
    "id": "8VQ7-HglS3w8",
    "outputId": "7da24da4-0a5d-4919-a455-3b785a9e5462"
   },
   "outputs": [
    {
     "data": {
      "text/plain": [
       "<keras.src.callbacks.History at 0x1f406d8a910>"
      ]
     },
     "execution_count": 6,
     "metadata": {},
     "output_type": "execute_result"
    }
   ],
   "source": [
    "model.fit(X_train, y_train, epochs=5000, verbose=0)"
   ]
  },
  {
   "cell_type": "code",
   "execution_count": 7,
   "metadata": {
    "id": "AuUjFCBeTCid"
   },
   "outputs": [],
   "source": [
    "loss, accuracy = model.evaluate(X_train, y_train, verbose=0)"
   ]
  },
  {
   "cell_type": "code",
   "execution_count": 8,
   "metadata": {
    "colab": {
     "base_uri": "https://localhost:8080/"
    },
    "id": "aSK-kev-TEpF",
    "outputId": "343046e6-296f-4fe9-80fa-76846c379d99"
   },
   "outputs": [
    {
     "name": "stdout",
     "output_type": "stream",
     "text": [
      "Loss: 0.07, Accuracy: 1.00\n"
     ]
    }
   ],
   "source": [
    "print(f'Loss: {loss:.2f}, Accuracy: {accuracy:.2f}')"
   ]
  },
  {
   "cell_type": "code",
   "execution_count": 9,
   "metadata": {
    "colab": {
     "base_uri": "https://localhost:8080/"
    },
    "id": "JbZ9MNChTJCU",
    "outputId": "b2b025dd-510e-4a36-b2bd-2ee2002e9453"
   },
   "outputs": [
    {
     "name": "stdout",
     "output_type": "stream",
     "text": [
      "Input\tOutput\n",
      "[0 0]\t0\n",
      "[0 1]\t1\n",
      "[1 0]\t1\n",
      "[1 1]\t0\n"
     ]
    }
   ],
   "source": [
    "y_pred = (model.predict(X_train, verbose=0) > 0.5).astype(\"int32\")\n",
    "print(\"Input\\tOutput\")\n",
    "for i in range(len(X_train)):\n",
    "  print(f\"{X_train[i]}\\t{y_pred[i][0]}\")"
   ]
  },
  {
   "cell_type": "markdown",
   "metadata": {
    "id": "ydfl8VxeR7Bf"
   },
   "source": [
    "## Output:\n",
    "Thus the implementation of python program to solve XOR problem using a multi-layer perceptron was successful."
   ]
  },
  {
   "cell_type": "code",
   "execution_count": null,
   "metadata": {
    "id": "u7PjdzE_SBg5"
   },
   "outputs": [],
   "source": []
  }
 ],
 "metadata": {
  "colab": {
   "provenance": []
  },
  "kernelspec": {
   "display_name": "Python 3",
   "name": "python3"
  },
  "language_info": {
   "codemirror_mode": {
    "name": "ipython",
    "version": 3
   },
   "file_extension": ".py",
   "mimetype": "text/x-python",
   "name": "python",
   "nbconvert_exporter": "python",
   "pygments_lexer": "ipython3",
   "version": "3.11.5"
  }
 },
 "nbformat": 4,
 "nbformat_minor": 0
}
