{
 "cells": [
  {
   "cell_type": "code",
   "execution_count": 1,
   "metadata": {
    "id": "x3fJhuGBF1z_"
   },
   "outputs": [],
   "source": [
    "import tensorflow as tf\n",
    "import matplotlib.pyplot as plt\n",
    "from tensorflow.keras.preprocessing.image import ImageDataGenerator"
   ]
  },
  {
   "cell_type": "code",
   "execution_count": 6,
   "metadata": {},
   "outputs": [],
   "source": [
    "img_width = 500\n",
    "train_path = \"train\"\n",
    "test_path = \"test\""
   ]
  },
  {
   "cell_type": "code",
   "execution_count": 3,
   "metadata": {
    "colab": {
     "base_uri": "https://localhost:8080/"
    },
    "id": "zAtLaTelHFry",
    "outputId": "2cb38a2f-6a9c-4460-ea80-1686b98838f3"
   },
   "outputs": [],
   "source": [
    "image_gen = ImageDataGenerator(\n",
    "    rescale = 1./255,\n",
    "    shear_range = 0.2,\n",
    "    zoom_range = 0.2,\n",
    "    horizontal_flip = True, \n",
    ")\n",
    "test_data_gen = ImageDataGenerator(rescale = 1./255)"
   ]
  },
  {
   "cell_type": "code",
   "execution_count": 11,
   "metadata": {},
   "outputs": [
    {
     "name": "stdout",
     "output_type": "stream",
     "text": [
      "Found 4192 images belonging to 2 classes.\n",
      "Found 624 images belonging to 2 classes.\n"
     ]
    }
   ],
   "source": [
    "train = image_gen.flow_from_directory(\n",
    "    train_path,\n",
    "    target_size=(99, 128),\n",
    "    color_mode=\"grayscale\",\n",
    "    class_mode=\"binary\",\n",
    "    batch_size=32\n",
    ")\n",
    "test = test_data_gen.flow_from_directory(\n",
    "    test_path,\n",
    "    target_size=(99, 128),\n",
    "    color_mode=\"grayscale\",\n",
    "    shuffle=False,\n",
    "    class_mode=\"binary\",\n",
    "    batch_size=32\n",
    ")"
   ]
  },
  {
   "cell_type": "code",
   "execution_count": null,
   "metadata": {},
   "outputs": [
    {
     "data": {
      "text/plain": [
       "(99, 128, 1)"
      ]
     },
     "execution_count": 12,
     "metadata": {},
     "output_type": "execute_result"
    }
   ],
   "source": [
    "train.image_shape"
   ]
  },
  {
   "cell_type": "code",
   "execution_count": 13,
   "metadata": {
    "id": "TVFSTo4HIwzU"
   },
   "outputs": [],
   "source": [
    "from tensorflow.keras.layers import Convolution2D, MaxPooling2D, Flatten, Dense, Input, Activation"
   ]
  },
  {
   "cell_type": "code",
   "execution_count": 22,
   "metadata": {
    "id": "50IPZhqpHqKi"
   },
   "outputs": [],
   "source": [
    "nett = tf.keras.models.Sequential([\n",
    "   Input(shape=(99, 128, 1)),\n",
    "   Convolution2D(36, (3, 3)),\n",
    "   Activation(\"relu\"),\n",
    "   MaxPooling2D(pool_size=(2, 2)),\n",
    "   Convolution2D(36, (2, 3)),\n",
    "   Activation(\"relu\"),\n",
    "   MaxPooling2D(pool_size=(2, 2)),\n",
    "   Convolution2D(36, (2, 2)),\n",
    "   Activation(\"relu\"),\n",
    "   MaxPooling2D(pool_size=(2, 2)),\n",
    "   Flatten(),\n",
    "   Dense(84),\n",
    "   Activation(\"relu\"),\n",
    "   Dense(10),\n",
    "   Activation(\"softmax\"),\n",
    "])"
   ]
  },
  {
   "cell_type": "code",
   "execution_count": 23,
   "metadata": {
    "id": "KQIKUMvcJuto"
   },
   "outputs": [],
   "source": [
    "nett.compile(\n",
    "    optimizer=\"adam\",\n",
    "    loss=\"sparse_categorical_crossentropy\",\n",
    "    metrics=[\"accuracy\"]\n",
    ")"
   ]
  },
  {
   "cell_type": "code",
   "execution_count": 25,
   "metadata": {
    "colab": {
     "base_uri": "https://localhost:8080/"
    },
    "id": "XdfujZK1KZje",
    "outputId": "1482e4fa-9345-4115-a5b7-2a78adaec8fd"
   },
   "outputs": [
    {
     "name": "stdout",
     "output_type": "stream",
     "text": [
      "Epoch 1/5\n",
      "131/131 [==============================] - 65s 498ms/step - loss: 0.4494 - accuracy: 0.7953\n",
      "Epoch 2/5\n",
      "131/131 [==============================] - 44s 338ms/step - loss: 0.2470 - accuracy: 0.9003\n",
      "Epoch 3/5\n",
      "131/131 [==============================] - 42s 318ms/step - loss: 0.2158 - accuracy: 0.9105\n",
      "Epoch 4/5\n",
      "131/131 [==============================] - 41s 312ms/step - loss: 0.1714 - accuracy: 0.9339\n",
      "Epoch 5/5\n",
      "131/131 [==============================] - 41s 313ms/step - loss: 0.1589 - accuracy: 0.9342\n"
     ]
    },
    {
     "data": {
      "text/plain": [
       "<keras.src.callbacks.History at 0x205ef896050>"
      ]
     },
     "execution_count": 25,
     "metadata": {},
     "output_type": "execute_result"
    }
   ],
   "source": [
    "nett.fit(train, epochs=5)"
   ]
  },
  {
   "cell_type": "code",
   "execution_count": 27,
   "metadata": {
    "colab": {
     "base_uri": "https://localhost:8080/"
    },
    "id": "mHlKusSQKgH0",
    "outputId": "0689ba4f-0c1f-4f85-ef9f-280152f73bd5"
   },
   "outputs": [
    {
     "name": "stdout",
     "output_type": "stream",
     "text": [
      "20/20 [==============================] - 9s 418ms/step - loss: 0.4264 - accuracy: 0.8478\n"
     ]
    },
    {
     "data": {
      "text/plain": [
       "[0.4264102280139923, 0.8477563858032227]"
      ]
     },
     "execution_count": 27,
     "metadata": {},
     "output_type": "execute_result"
    }
   ],
   "source": [
    "nett.evaluate(test)"
   ]
  }
 ],
 "metadata": {
  "accelerator": "GPU",
  "colab": {
   "gpuType": "T4",
   "provenance": []
  },
  "kernelspec": {
   "display_name": "Python 3",
   "name": "python3"
  },
  "language_info": {
   "codemirror_mode": {
    "name": "ipython",
    "version": 3
   },
   "file_extension": ".py",
   "mimetype": "text/x-python",
   "name": "python",
   "nbconvert_exporter": "python",
   "pygments_lexer": "ipython3",
   "version": "3.11.5"
  }
 },
 "nbformat": 4,
 "nbformat_minor": 0
}
